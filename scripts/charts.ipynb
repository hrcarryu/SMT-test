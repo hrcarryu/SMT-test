{
 "cells": [
  {
   "cell_type": "code",
   "execution_count": 1,
   "metadata": {},
   "outputs": [],
   "source": [
    "import pandas as pd\n",
    "import os\n",
    "from tqdm.notebook import tqdm\n",
    "\n",
    "class SMT_test:\n",
    "    chart = None\n",
    "    def __init__(self, benchmarks_path='../../', chart_path='../charts', result_path='../results'):\n",
    "        self.benchmarks_path = benchmarks_path\n",
    "        self.chart_path = chart_path\n",
    "        self.result_path = result_path\n",
    "\n",
    "    def init_chart(self, folder_path, read_path, save_path):\n",
    "        full_execl_path = f'{self.chart_path}/{read_path}'\n",
    "        self.chart = pd.read_excel(full_execl_path, header=[0], index_col = [0])\n",
    "        full_folder_path = f'{self.benchmarks_path}{folder_path}'\n",
    "        self.get_info(full_folder_path)\n",
    "        full_save_path = f'{self.chart_path}/{save_path}'\n",
    "        self.chart.to_excel(full_save_path)\n",
    "    \n",
    "    def get_info(self, folder_path):\n",
    "        benchmarks = os.listdir(folder_path)\n",
    "        for file in benchmarks:\n",
    "            path = os.path.join(folder_path, file)\n",
    "            if os.path.isdir(path):\n",
    "                self.get_info(path)\n",
    "            else:\n",
    "                try:\n",
    "                    with open(path) as f:\n",
    "                        vars = 0\n",
    "                        assertions = 0\n",
    "                        status = 'none'\n",
    "                        line = f.readline()\n",
    "                        while line:\n",
    "                            if line[:3] == '(de':\n",
    "                                vars += 1\n",
    "                            elif line[:3] == '(as':\n",
    "                                assertions += 1\n",
    "                            elif line[11:17] == 'status':\n",
    "                                status = line.split(' ')[2][:-2]\n",
    "                            line = f.readline()\n",
    "                        category = path.split('/')[-2]\n",
    "                        path = path.replace(self.benchmarks_path, '')\n",
    "                        self.chart.loc[len(self.chart.index)] = [path, category, vars, assertions, status]\n",
    "                except:\n",
    "                    print(path)\n",
    "\n",
    "    def arrange(self, solver, log_path, read_path, save_path):\n",
    "        full_execl_path = f'{self.chart_path}/{read_path}'\n",
    "        self.chart = pd.read_excel(full_execl_path, header=[0], index_col = [0])\n",
    "        full_res_path = f'{self.result_path}/{solver}/{log_path}'\n",
    "        results = os.listdir(full_res_path)\n",
    "        result_name = f'result_{solver}_{log_path}'\n",
    "        time_name = f'time_{solver}_{log_path}'\n",
    "        total = len(self.chart.index)\n",
    "        count = 0\n",
    "        for file in tqdm(results, desc=full_res_path):\n",
    "            with open(os.path.join(full_res_path, file)) as f:\n",
    "                try:\n",
    "                    if solver == 'cvc5':\n",
    "                        while f.readline():\n",
    "                            info = f.readline().rstrip()\n",
    "                            result = info\n",
    "                            f.readline()\n",
    "                            if info == 'unknown':\n",
    "                                info = f.readline().rstrip()\n",
    "                                if len(info) < 10:\n",
    "                                    if len(info) > 1:\n",
    "                                        result = info\n",
    "                                    info = f.readline().rstrip()\n",
    "                            elif len(info) > 10:\n",
    "                                result = \"unknown\"\n",
    "                            else:\n",
    "                                info = f.readline().rstrip()\n",
    "                            name = info.split(' : ')[0]\n",
    "                            timeout = info.split(' : ')[1][:-4]\n",
    "                            self.chart.loc[self.chart['filename'] == name, [result_name, time_name]] = [result, float(timeout)]\n",
    "                            count += 1\n",
    "                    elif solver == 'cvc5_new':\n",
    "                        while f.readline():\n",
    "                            info = f.readline().rstrip()\n",
    "                            result = info\n",
    "                            if len(info) > 10:\n",
    "                                result = \"unknown\"\n",
    "                            info = f.readline().rstrip()\n",
    "                            name = info.split(' : ')[0]\n",
    "                            timeout = info.split(' : ')[1][:-4]\n",
    "                            self.chart.loc[self.chart['filename'] == name, [result_name, time_name]] = [result, float(timeout)]\n",
    "                            count += 1\n",
    "                    elif solver == 'z3':\n",
    "                        while f.readline():\n",
    "                            info = f.readline().rstrip()\n",
    "                            result = info\n",
    "                            info = f.readline().rstrip()\n",
    "                            name = info.split(' : ')[0]\n",
    "                            timeout = info.split(' : ')[1][:-4]\n",
    "                            self.chart.loc[self.chart['filename'] == name, [result_name, time_name]] = [result, float(timeout)]\n",
    "                            count += 1\n",
    "                except:\n",
    "                    print(file)\n",
    "\n",
    "        print(f\"count/total: {count}/{total}\")\n",
    "        \n",
    "        full_save_path = f'{self.chart_path}/{save_path}'\n",
    "        self.chart.to_excel(full_save_path)"
   ]
  },
  {
   "cell_type": "code",
   "execution_count": 3,
   "metadata": {},
   "outputs": [
    {
     "data": {
      "application/vnd.jupyter.widget-view+json": {
       "model_id": "c19aff56b5ea45049234ee0a7bc60b01",
       "version_major": 2,
       "version_minor": 0
      },
      "text/plain": [
       "../results/cvc5/QF_SLIA:   0%|          | 0/39 [00:00<?, ?it/s]"
      ]
     },
     "metadata": {},
     "output_type": "display_data"
    },
    {
     "name": "stdout",
     "output_type": "stream",
     "text": [
      "count/total: 427/81109\n"
     ]
    },
    {
     "data": {
      "application/vnd.jupyter.widget-view+json": {
       "model_id": "a71468bd320944b193097da61dfdb05b",
       "version_major": 2,
       "version_minor": 0
      },
      "text/plain": [
       "../results/z3/QF_SLIA:   0%|          | 0/39 [00:00<?, ?it/s]"
      ]
     },
     "metadata": {},
     "output_type": "display_data"
    },
    {
     "name": "stdout",
     "output_type": "stream",
     "text": [
      "count/total: 428/81109\n"
     ]
    }
   ],
   "source": [
    "str = SMT_test()\n",
    "str.arrange('cvc5', 'QF_SLIA', 'QF_SLIA.xlsx', 'result_QF_SLIA_cvc5.xlsx')\n",
    "str.arrange('z3', 'QF_SLIA', 'QF_SLIA.xlsx', 'result_QF_SLIA_z3.xlsx')"
   ]
  }
 ],
 "metadata": {
  "kernelspec": {
   "display_name": "Python 3.9.12 ('base')",
   "language": "python",
   "name": "python3"
  },
  "language_info": {
   "codemirror_mode": {
    "name": "ipython",
    "version": 3
   },
   "file_extension": ".py",
   "mimetype": "text/x-python",
   "name": "python",
   "nbconvert_exporter": "python",
   "pygments_lexer": "ipython3",
   "version": "3.9.12"
  },
  "orig_nbformat": 4,
  "vscode": {
   "interpreter": {
    "hash": "b92a0254a30c2afbf0cf228538e1698f068dfe9bb515fbf9837b53b2177d9016"
   }
  }
 },
 "nbformat": 4,
 "nbformat_minor": 2
}
